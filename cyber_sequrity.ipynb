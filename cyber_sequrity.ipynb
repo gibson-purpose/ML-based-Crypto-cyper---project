{
 "cells": [
  {
   "cell_type": "code",
   "execution_count": 1,
   "metadata": {
    "colab": {
     "base_uri": "https://localhost:8080/"
    },
    "id": "Liu7TAWTi70q",
    "outputId": "00ee5328-f5bd-47db-f31f-05b338efb65c"
   },
   "outputs": [
    {
     "name": "stdout",
     "output_type": "stream",
     "text": [
      "Looking in indexes: https://pypi.org/simple, https://us-python.pkg.dev/colab-wheels/public/simple/\n",
      "Collecting pycrypto\n",
      "  Downloading pycrypto-2.6.1.tar.gz (446 kB)\n",
      "\u001b[2K     \u001b[90m━━━━━━━━━━━━━━━━━━━━━━━━━━━━━━━━━━━━━━━\u001b[0m \u001b[32m446.2/446.2 KB\u001b[0m \u001b[31m8.1 MB/s\u001b[0m eta \u001b[36m0:00:00\u001b[0m\n",
      "\u001b[?25h  Preparing metadata (setup.py) ... \u001b[?25l\u001b[?25hdone\n",
      "Building wheels for collected packages: pycrypto\n",
      "  Building wheel for pycrypto (setup.py) ... \u001b[?25l\u001b[?25hdone\n",
      "  Created wheel for pycrypto: filename=pycrypto-2.6.1-cp38-cp38-linux_x86_64.whl size=498477 sha256=fd26a418072adfa4f959c81a6eed18e45be64f2baaf3e9069f7200a045a2469c\n",
      "  Stored in directory: /root/.cache/pip/wheels/d0/99/d0/0298ea019d63f1d63a0965b9944b719e875f9bd6ffc6dcf293\n",
      "Successfully built pycrypto\n",
      "Installing collected packages: pycrypto\n",
      "Successfully installed pycrypto-2.6.1\n"
     ]
    }
   ],
   "source": [
    "!pip install pycrypto"
   ]
  },
  {
   "cell_type": "code",
   "execution_count": null,
   "metadata": {
    "id": "lCN1ag-fjDX0"
   },
   "outputs": [],
   "source": []
  },
  {
   "cell_type": "code",
   "execution_count": null,
   "metadata": {
    "id": "6_qPpVUpjDaj"
   },
   "outputs": [],
   "source": []
  },
  {
   "cell_type": "code",
   "execution_count": null,
   "metadata": {
    "id": "WbPsbJA9jDdB"
   },
   "outputs": [],
   "source": []
  },
  {
   "cell_type": "code",
   "execution_count": null,
   "metadata": {
    "id": "VnqMmbE7jDe2"
   },
   "outputs": [],
   "source": []
  },
  {
   "cell_type": "code",
   "execution_count": 2,
   "metadata": {
    "id": "qrOflBpoi1gV"
   },
   "outputs": [],
   "source": [
    "import pandas as pd\n",
    "from Crypto.Cipher import AES\n",
    "import random\n",
    "import string\n",
    "import csv\n",
    "\n",
    "def generate_key_iv(length):\n",
    "    key = ''.join(random.choice(string.ascii_letters + string.digits) for _ in range(length))\n",
    "    iv = ''.join(random.choice(string.ascii_letters + string.digits) for _ in range(16))\n",
    "    return key, iv\n",
    "\n",
    "def encrypt_aes(plaintext, key, iv):\n",
    "    cipher = AES.new(key, AES.MODE_CBC, iv)\n",
    "    return cipher.encrypt(plaintext*16)\n",
    "\n",
    "#generate 100 records\n",
    "records = []\n",
    "for i in range(120000):\n",
    "    plaintext = ''.join(random.choice(string.ascii_letters + string.digits) for _ in range(20))\n",
    "    key, iv = generate_key_iv(16)\n",
    "    ciphertext = encrypt_aes(plaintext, key,iv=iv)\n",
    "    records.append({\"plaintext\": plaintext, \"ciphertext\": ciphertext, \"key\": key, \"iv\": iv})\n",
    "\n",
    "# create a dataframe\n",
    "df = pd.DataFrame(records)\n",
    "\n",
    "# saving the dataframe to a csv file\n",
    "df.to_csv(\"aes_dataset.csv\",index=False)\n"
   ]
  },
  {
   "cell_type": "code",
   "execution_count": null,
   "metadata": {
    "id": "_mK0jic_j4xR"
   },
   "outputs": [],
   "source": []
  }
 ],
 "metadata": {
  "colab": {
   "provenance": []
  },
  "kernelspec": {
   "display_name": "Python 3 (ipykernel)",
   "language": "python",
   "name": "python3"
  },
  "language_info": {
   "codemirror_mode": {
    "name": "ipython",
    "version": 3
   },
   "file_extension": ".py",
   "mimetype": "text/x-python",
   "name": "python",
   "nbconvert_exporter": "python",
   "pygments_lexer": "ipython3",
   "version": "3.9.13"
  }
 },
 "nbformat": 4,
 "nbformat_minor": 1
}
